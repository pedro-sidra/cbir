{
 "cells": [
  {
   "cell_type": "code",
   "execution_count": 1,
   "metadata": {},
   "outputs": [],
   "source": [
    "from common import *"
   ]
  },
  {
   "cell_type": "code",
   "execution_count": 2,
   "metadata": {},
   "outputs": [
    {
     "name": "stdout",
     "output_type": "stream",
     "text": [
      "216db exists. Skipping\n"
     ]
    }
   ],
   "source": [
    "db = load_db(download_tar(\"http://vision.lems.brown.edu/sites/default/files/216db.tar.gz\"))"
   ]
  },
  {
   "cell_type": "code",
   "execution_count": 3,
   "metadata": {},
   "outputs": [
    {
     "name": "stdout",
     "output_type": "stream",
     "text": [
      "['bird' 'bone' 'brick' 'camel' 'car' 'children' 'classic' 'elephant'\n",
      " 'face' 'fork' 'fountain' 'glas' 'hammer' 'heart' 'key' 'misk' 'ray'\n",
      " 'turtle']\n"
     ]
    },
    {
     "data": {
      "text/html": [
       "<div>\n",
       "<style scoped>\n",
       "    .dataframe tbody tr th:only-of-type {\n",
       "        vertical-align: middle;\n",
       "    }\n",
       "\n",
       "    .dataframe tbody tr th {\n",
       "        vertical-align: top;\n",
       "    }\n",
       "\n",
       "    .dataframe thead th {\n",
       "        text-align: right;\n",
       "    }\n",
       "</style>\n",
       "<table border=\"1\" class=\"dataframe\">\n",
       "  <thead>\n",
       "    <tr style=\"text-align: right;\">\n",
       "      <th></th>\n",
       "      <th>clas</th>\n",
       "      <th>num</th>\n",
       "      <th>image</th>\n",
       "    </tr>\n",
       "  </thead>\n",
       "  <tbody>\n",
       "    <tr>\n",
       "      <th>149</th>\n",
       "      <td>bird</td>\n",
       "      <td>02</td>\n",
       "      <td>[[255, 255, 255, 255, 255, 255, 255, 255, 255,...</td>\n",
       "    </tr>\n",
       "    <tr>\n",
       "      <th>213</th>\n",
       "      <td>bird</td>\n",
       "      <td>04</td>\n",
       "      <td>[[255, 255, 255, 255, 255, 255, 255, 255, 255,...</td>\n",
       "    </tr>\n",
       "    <tr>\n",
       "      <th>48</th>\n",
       "      <td>bird</td>\n",
       "      <td>07</td>\n",
       "      <td>[[255, 255, 255, 255, 255, 255, 255, 255, 255,...</td>\n",
       "    </tr>\n",
       "    <tr>\n",
       "      <th>203</th>\n",
       "      <td>bird</td>\n",
       "      <td>09</td>\n",
       "      <td>[[255, 255, 255, 255, 255, 255, 255, 255, 255,...</td>\n",
       "    </tr>\n",
       "    <tr>\n",
       "      <th>83</th>\n",
       "      <td>bird</td>\n",
       "      <td>10</td>\n",
       "      <td>[[255, 255, 255, 255, 255, 255, 255, 255, 255,...</td>\n",
       "    </tr>\n",
       "    <tr>\n",
       "      <th>...</th>\n",
       "      <td>...</td>\n",
       "      <td>...</td>\n",
       "      <td>...</td>\n",
       "    </tr>\n",
       "    <tr>\n",
       "      <th>193</th>\n",
       "      <td>turtle</td>\n",
       "      <td>13</td>\n",
       "      <td>[[255, 255, 255, 255, 255, 255, 255, 255, 255,...</td>\n",
       "    </tr>\n",
       "    <tr>\n",
       "      <th>178</th>\n",
       "      <td>turtle</td>\n",
       "      <td>16</td>\n",
       "      <td>[[255, 255, 255, 255, 255, 255, 255, 255, 255,...</td>\n",
       "    </tr>\n",
       "    <tr>\n",
       "      <th>202</th>\n",
       "      <td>turtle</td>\n",
       "      <td>17</td>\n",
       "      <td>[[255, 255, 255, 255, 255, 255, 255, 255, 255,...</td>\n",
       "    </tr>\n",
       "    <tr>\n",
       "      <th>191</th>\n",
       "      <td>turtle</td>\n",
       "      <td>18</td>\n",
       "      <td>[[255, 255, 255, 255, 255, 255, 255, 255, 255,...</td>\n",
       "    </tr>\n",
       "    <tr>\n",
       "      <th>89</th>\n",
       "      <td>turtle</td>\n",
       "      <td>20</td>\n",
       "      <td>[[255, 255, 255, 255, 255, 255, 255, 255, 255,...</td>\n",
       "    </tr>\n",
       "  </tbody>\n",
       "</table>\n",
       "<p>216 rows × 3 columns</p>\n",
       "</div>"
      ],
      "text/plain": [
       "       clas num                                              image\n",
       "149    bird  02  [[255, 255, 255, 255, 255, 255, 255, 255, 255,...\n",
       "213    bird  04  [[255, 255, 255, 255, 255, 255, 255, 255, 255,...\n",
       "48     bird  07  [[255, 255, 255, 255, 255, 255, 255, 255, 255,...\n",
       "203    bird  09  [[255, 255, 255, 255, 255, 255, 255, 255, 255,...\n",
       "83     bird  10  [[255, 255, 255, 255, 255, 255, 255, 255, 255,...\n",
       "..      ...  ..                                                ...\n",
       "193  turtle  13  [[255, 255, 255, 255, 255, 255, 255, 255, 255,...\n",
       "178  turtle  16  [[255, 255, 255, 255, 255, 255, 255, 255, 255,...\n",
       "202  turtle  17  [[255, 255, 255, 255, 255, 255, 255, 255, 255,...\n",
       "191  turtle  18  [[255, 255, 255, 255, 255, 255, 255, 255, 255,...\n",
       "89   turtle  20  [[255, 255, 255, 255, 255, 255, 255, 255, 255,...\n",
       "\n",
       "[216 rows x 3 columns]"
      ]
     },
     "execution_count": 3,
     "metadata": {},
     "output_type": "execute_result"
    }
   ],
   "source": [
    "df = pd.DataFrame(data=db)\n",
    "df = df.sort_values(by=[\"clas\",\"num\"])\n",
    "print(df.clas.unique())\n",
    "df"
   ]
  },
  {
   "cell_type": "code",
   "execution_count": 4,
   "metadata": {},
   "outputs": [],
   "source": [
    "%matplotlib qt"
   ]
  },
  {
   "cell_type": "code",
   "execution_count": 5,
   "metadata": {},
   "outputs": [],
   "source": [
    "chosen=\"turtle\"\n",
    "\n",
    "def plot_cls(chosen):\n",
    "\n",
    "    data =df.query(f\"clas=='{chosen}'\")\n",
    "    size = len(data)\n",
    "    COLSIZE=5\n",
    "    fig, axs = plt.subplots(nrows=size//COLSIZE+1, ncols=COLSIZE, figsize=(COLSIZE*6,(size//COLSIZE+1)*6))\n",
    "    for ax, (i, row) in zip(axs.flatten(), data.iterrows()):\n",
    "        ax.imshow(row.image)\n",
    "        ax.set_title(f\"{row.num}\")\n",
    "\n",
    "    fig.suptitle(chosen)\n",
    "    \n",
    "plot_cls(chosen)"
   ]
  },
  {
   "cell_type": "code",
   "execution_count": 6,
   "metadata": {},
   "outputs": [],
   "source": [
    "for c in df.clas.unique():\n",
    "    plot_cls(c)"
   ]
  },
  {
   "cell_type": "code",
   "execution_count": null,
   "metadata": {},
   "outputs": [],
   "source": [
    "COLSIZE=12\n",
    "fig, axs = plt.subplots(nrows=len(df.clas.unique()), ncols=COLSIZE, figsize=(COLSIZE*2,50))\n",
    "for clas,axrow in zip(df.clas.unique(), axs):\n",
    "    for ax, (i, row) in zip(axrow,df.query(f\"clas=='{clas}'\").iterrows()):\n",
    "        ax.imshow(row.image)\n",
    "        ax.set_title(f\"{ row.clas }{row.num}\")\n",
    "        ax.axis(\"off\")\n",
    "\n",
    "fig.tight_layout()"
   ]
  }
 ],
 "metadata": {
  "interpreter": {
   "hash": "23f18d05103e57a8da9e02455a140d7bec533e72d2702bd45f81d73c6cd61b13"
  },
  "kernelspec": {
   "display_name": "Python 3.8.13 ('cbir')",
   "language": "python",
   "name": "python3"
  },
  "language_info": {
   "codemirror_mode": {
    "name": "ipython",
    "version": 3
   },
   "file_extension": ".py",
   "mimetype": "text/x-python",
   "name": "python",
   "nbconvert_exporter": "python",
   "pygments_lexer": "ipython3",
   "version": "3.8.13"
  },
  "orig_nbformat": 4
 },
 "nbformat": 4,
 "nbformat_minor": 2
}
