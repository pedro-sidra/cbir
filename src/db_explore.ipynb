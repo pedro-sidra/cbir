{
 "cells": [
  {
   "cell_type": "code",
   "execution_count": null,
   "metadata": {},
   "outputs": [],
   "source": [
    "from common import *"
   ]
  },
  {
   "cell_type": "code",
   "execution_count": null,
   "metadata": {},
   "outputs": [],
   "source": [
    "db = load_db(download_tar(\"http://vision.lems.brown.edu/sites/default/files/216db.tar.gz\"))"
   ]
  },
  {
   "cell_type": "code",
   "execution_count": null,
   "metadata": {},
   "outputs": [],
   "source": [
    "df = pd.DataFrame(data=db)\n",
    "df = df.sort_values(by=[\"clas\",\"num\"])\n",
    "print(df.clas.unique())\n",
    "df"
   ]
  },
  {
   "cell_type": "code",
   "execution_count": null,
   "metadata": {},
   "outputs": [],
   "source": [
    "chosen=\"turtle\"\n",
    "\n",
    "def plot_cls(chosen):\n",
    "\n",
    "    data =df.query(f\"clas=='{chosen}'\")\n",
    "    size = len(data)\n",
    "    COLSIZE=5\n",
    "    fig, axs = plt.subplots(nrows=size//COLSIZE+1, ncols=COLSIZE, figsize=(COLSIZE*6,(size//COLSIZE+1)*6))\n",
    "    for ax, (i, row) in zip(axs.flatten(), data.iterrows()):\n",
    "        ax.imshow(row.image)\n",
    "        ax.set_title(f\"{row.num}\")\n",
    "\n",
    "    fig.suptitle(chosen)\n",
    "    \n",
    "plot_cls(chosen)"
   ]
  },
  {
   "cell_type": "code",
   "execution_count": null,
   "metadata": {},
   "outputs": [],
   "source": [
    "for c in df.clas.unique():\n",
    "    plot_cls(c)\n",
    "    plt.figure()"
   ]
  },
  {
   "cell_type": "code",
   "execution_count": null,
   "metadata": {},
   "outputs": [],
   "source": [
    "COLSIZE=12\n",
    "fig, axs = plt.subplots(nrows=len(df.clas.unique()), ncols=COLSIZE, figsize=(COLSIZE*2,50))\n",
    "for clas,axrow in zip(df.clas.unique(), axs):\n",
    "    for ax, (i, row) in zip(axrow,df.query(f\"clas=='{clas}'\").iterrows()):\n",
    "        ax.imshow(row.image)\n",
    "        ax.set_title(f\"{ row.clas }{row.num}\")\n",
    "        ax.axis(\"off\")\n",
    "\n",
    "fig.tight_layout()"
   ]
  }
 ],
 "metadata": {
  "interpreter": {
   "hash": "23f18d05103e57a8da9e02455a140d7bec533e72d2702bd45f81d73c6cd61b13"
  },
  "kernelspec": {
   "display_name": "Python 3.8.13 ('cbir')",
   "language": "python",
   "name": "python3"
  },
  "language_info": {
   "codemirror_mode": {
    "name": "ipython",
    "version": 3
   },
   "file_extension": ".py",
   "mimetype": "text/x-python",
   "name": "python",
   "nbconvert_exporter": "python",
   "pygments_lexer": "ipython3",
   "version": "3.8.13"
  },
  "orig_nbformat": 4
 },
 "nbformat": 4,
 "nbformat_minor": 2
}
