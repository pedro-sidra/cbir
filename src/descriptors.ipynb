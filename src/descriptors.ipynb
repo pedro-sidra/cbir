{
 "cells": [
  {
   "cell_type": "code",
   "execution_count": null,
   "metadata": {},
   "outputs": [],
   "source": [
    "from common import *\n",
    "import mahotas\n",
    "from scipy import spatial\n",
    "import scipy.stats\n",
    "\n",
    "import numpy.random"
   ]
  },
  {
   "cell_type": "code",
   "execution_count": null,
   "metadata": {},
   "outputs": [],
   "source": [
    "db = load_db(download_tar(\"http://vision.lems.brown.edu/sites/default/files/216db.tar.gz\"))"
   ]
  },
  {
   "cell_type": "code",
   "execution_count": null,
   "metadata": {},
   "outputs": [],
   "source": [
    "def query(image, descriptor, distance, top_n = 5, db=db):\n",
    "\n",
    "    C = np.stack([descriptor(im) for im in db.image])\n",
    "\n",
    "    desc = descriptor(image)\n",
    "    dists = distance( desc, C )\n",
    "\n",
    "    \n",
    "    return db.iloc[np.argsort(dists)].head(n=top_n)\n",
    "\n",
    "\n",
    "def test_queries(descriptor, distance, top_n=5, z_score_desc=False, i=None, transform=lambda im: im):\n",
    "\n",
    "    # Get descriptors for all images\n",
    "    # but apply `transform` first (a way to introduce noise)\n",
    "\n",
    "    _db = db.copy()\n",
    "\n",
    "    _db.image  = _db.image.apply(transform)\n",
    "    \n",
    "    _db[\"desc\"]= [descriptor(im) for im in _db.image]\n",
    "\n",
    "    if z_score_desc:\n",
    "        D = np.stack(_db.desc.to_numpy())\n",
    "        # Round to 10 digits to avoid unwanted variance from numerical precision\n",
    "        D = scipy.stats.zscore(np.round(D,10), axis=0)\n",
    "        # Fillna to make sure\n",
    "        D = np.nan_to_num(D, nan=0)\n",
    "        _db[\"desc\"] = list(D)\n",
    "\n",
    "    queries = []\n",
    "    results=[]\n",
    "    for clas in _db.clas.unique():\n",
    "\n",
    "        if i is None:\n",
    "            row = _db.query(f\"clas=='{clas}'\").sample(1).iloc[0]\n",
    "        else:\n",
    "            row = _db.query(f\"clas=='{clas}'\").iloc[i]\n",
    "\n",
    "\n",
    "        C = np.stack(_db.desc.to_numpy())\n",
    "\n",
    "        # desc = row.desc\n",
    "        dists = distance( row.desc, C)\n",
    "\n",
    "        queries.append(pd.DataFrame(data=[row]))#[[\"clas\",\"image\"]])\n",
    "        results.append(_db.iloc[np.argsort(dists)].head(n=top_n))#[[\"clas\",\"image\"]])\n",
    "    \n",
    "    return queries, results\n",
    "\n",
    "def query_acc(query, result):\n",
    "    return np.sum(result.clas == query.clas.iloc[0])/len(result)\n",
    "\n",
    "def query_accuracies(queries, results):\n",
    "    res = pd.DataFrame()\n",
    "    for q, r in zip(queries,results):\n",
    "        res[f\"{q.clas.iloc[0]}\"]=pd.Series(query_acc(q,r))\n",
    "    res.index.rename(\"Accuracy\", inplace=True)\n",
    "    return res\n",
    "\n",
    "def rand_rotate(im, scale_range=(0.85,1.15), rotation_range=(-180,180)):\n",
    "    h,w = im.shape\n",
    "    s_low, s_high = scale_range\n",
    "    r_low, r_high = rotation_range\n",
    "    M = cv2.getRotationMatrix2D(\n",
    "        # Keep center\n",
    "        center=(w//2,h//2),\n",
    "        # Use random ints for rotation (1 deg resolution is ok)\n",
    "        angle=np.random.randint(low=r_low,high=r_high),\n",
    "        # Use random float for scale\n",
    "        scale=np.random.rand()*(s_high-s_low)+s_low,\n",
    "    )\n",
    "    return cv2.warpAffine(im, M, dsize=im.shape[::-1])"
   ]
  },
  {
   "cell_type": "code",
   "execution_count": null,
   "metadata": {},
   "outputs": [],
   "source": [
    "def show_query_results(queries, results):\n",
    "    qDf = {}\n",
    "    rDf = pd.DataFrame()\n",
    "    for i, (q, r) in enumerate(zip(queries, results)):\n",
    "        qDf[f\"{q.clas.iloc[0]}\"] = q.image.iloc[0]\n",
    "        rDf[f\"{q.clas.iloc[0]}\"] = r.image.reset_index(drop=True)\n",
    "\n",
    "    print(\"queries:\")\n",
    "    displayImages(pd.DataFrame(data=[qDf]))\n",
    "    print(\"results:\")\n",
    "    displayImages(rDf)\n",
    "\n",
    "def show_query_accuracy(queries, results):\n",
    "    print(\"Accuracies:\")\n",
    "    acc = query_accuracies(queries,results)\n",
    "    display(acc)\n",
    "    print(f\"Average along classes: {acc.transpose().mean().iloc[0]:.2f}\")"
   ]
  },
  {
   "cell_type": "code",
   "execution_count": null,
   "metadata": {},
   "outputs": [],
   "source": [
    "def hu_moments(im):\n",
    "    im = 255*(im!=0).astype(np.uint8)\n",
    "    h=cv2.moments(im)\n",
    "\n",
    "    return cv2.HuMoments(h).flatten()\n",
    "\n",
    "def log_transform(vec):\n",
    "    return -1* np.copysign(1.0, vec) * np.log10(abs(vec))\n",
    "\n",
    "def hu_moments_log(im):\n",
    "    hu = hu_moments(im)\n",
    "    return log_transform(hu)\n",
    "\n",
    "\n",
    "def l1Dist(vec, dataset):\n",
    "    return np.linalg.norm( vec.reshape(1,-1) - dataset , axis=-1, ord=1)\n",
    "\n",
    "def l2Dist(vec, dataset):\n",
    "    return np.linalg.norm( vec.reshape(1,-1) - dataset , axis=-1, ord=2)"
   ]
  },
  {
   "cell_type": "code",
   "execution_count": null,
   "metadata": {},
   "outputs": [],
   "source": [
    "def regularize(image):\n",
    "\n",
    "    A = np.vstack(np.where(image!=0)[::-1])\n",
    "    center = np.mean(A,axis=-1)\n",
    "    A = A.T - center\n",
    "    u, s, vt = np.linalg.svd(A)\n",
    "\n",
    "    if np.linalg.det(vt) < 0:\n",
    "        vt[0,:] = vt[0,:]*-1\n",
    "\n",
    "    r= vt\n",
    "    c = center\n",
    "    dsize = (250,250)\n",
    "\n",
    "    center_d = (dsize[0]/2, dsize[1]/2)\n",
    "    W = np.zeros((2,3))\n",
    "    W[:2,:2] = r \n",
    "    W[:2,2] = -r@c  + center_d\n",
    "\n",
    "    im2 = cv2.warpAffine(image, W, dsize=dsize)\n",
    "    return im2"
   ]
  },
  {
   "cell_type": "code",
   "execution_count": null,
   "metadata": {},
   "outputs": [],
   "source": [
    "displayDf(query(db.iloc[6].image, descriptor=hu_moments_log, distance=l2Dist, top_n=5))"
   ]
  },
  {
   "cell_type": "code",
   "execution_count": null,
   "metadata": {},
   "outputs": [],
   "source": [
    "queries, results = test_queries(hu_moments, l1Dist, top_n=5, i=0, z_score_desc=True)\n",
    "show_query_results(queries, results)\n",
    "show_query_accuracy(queries, results)"
   ]
  },
  {
   "cell_type": "code",
   "execution_count": null,
   "metadata": {},
   "outputs": [],
   "source": [
    "queries, results = test_queries(hu_moments_log, l1Dist, top_n=5, z_score_desc=False, i=0)\n",
    "show_query_results(queries, results)\n",
    "show_query_accuracy(queries, results)"
   ]
  },
  {
   "cell_type": "code",
   "execution_count": null,
   "metadata": {},
   "outputs": [],
   "source": [
    "def zernike(image, r=60, degree=8):\n",
    "    return  mahotas.features.zernike_moments(image, r, degree=degree)\n",
    "def cosine_distance(vec, dataset):\n",
    "    return [spatial.distance.cosine(vec, data) for data in dataset]"
   ]
  },
  {
   "cell_type": "code",
   "execution_count": null,
   "metadata": {},
   "outputs": [],
   "source": [
    "\n",
    "displayDf(query(db.image.iloc[5], zernike, l2Dist, top_n=5) )"
   ]
  },
  {
   "cell_type": "code",
   "execution_count": null,
   "metadata": {},
   "outputs": [],
   "source": [
    "queries, results = test_queries(zernike, l2Dist, top_n=5, z_score_desc=True, i=3)\n",
    "show_query_results(queries, results)\n",
    "show_query_accuracy(queries, results)"
   ]
  },
  {
   "cell_type": "code",
   "execution_count": null,
   "metadata": {},
   "outputs": [],
   "source": [
    "queries, results = test_queries(zernike, l2Dist, top_n=5, z_score_desc=True, i=3, transform=rand_rotate)\n",
    "show_query_results(queries, results)\n",
    "show_query_accuracy(queries, results)"
   ]
  },
  {
   "cell_type": "code",
   "execution_count": null,
   "metadata": {},
   "outputs": [],
   "source": [
    "def regularize_scale(im, object_size=115, output_size=115):\n",
    "    im = im\n",
    "\n",
    "    cmax = get_largest_contour(im)\n",
    "\n",
    "    x,y,w,h = cv2.boundingRect(cmax)\n",
    "\n",
    "    # plt.imshow(im)\n",
    "    # plt.plot([c[0,0] for c in cmax], [c[0,1] for c in cmax], color=\"r\")\n",
    "    # plt.figure()\n",
    "    # plt.imshow(im[y:y+h,x:x+w])\n",
    "    # m = np.zeros((2,3))\n",
    "    # m[0,0]=1\n",
    "    # m[1,1]=1\n",
    "    # m[0,2] = dsize//2 - w//2\n",
    "    # m[1,2] = dsize//2 - h//2\n",
    "\n",
    "    im2 = im[y:y+h,x:x+w]\n",
    "\n",
    "    factor = object_size/max(h,w)\n",
    "    im2 = cv2.resize(im2, dsize=None, fx=factor,fy=factor)\n",
    "\n",
    "    h,w = im2.shape\n",
    "    border_h = output_size-h \n",
    "    border_w = output_size-w\n",
    "\n",
    "    top = border_h//2\n",
    "    bottom = border_h-top\n",
    "\n",
    "    left = border_w//2\n",
    "    right = border_w-left\n",
    "\n",
    "    im2 = cv2.copyMakeBorder(im2, top, bottom, left, right, cv2.BORDER_CONSTANT)\n",
    "\n",
    "    return im2"
   ]
  },
  {
   "cell_type": "code",
   "execution_count": null,
   "metadata": {},
   "outputs": [],
   "source": [
    "from functools import partial\n",
    "\n",
    "# db2 = db.copy()\n",
    "# db2.image = db2.image.apply(regularize)\n",
    "# db2.image = db2.image.apply(partial(regularize_scale, object_size=115, output_size=200))\n",
    "# for image in db2.query(\"clas=='turtle'\").image:\n",
    "#     cmax = get_largest_contour(255-image)\n",
    "#     plt.plot([c[0,0] for c in cmax], [c[0,1] for c in cmax], color=\"r\")\n",
    "\n",
    "# for image in db2.query(\"clas=='elephant'\").image:\n",
    "#     cmax = get_largest_contour(255-image)\n",
    "#     plt.plot([c[0,0] for c in cmax], [c[0,1] for c in cmax], color=\"g\")"
   ]
  },
  {
   "cell_type": "code",
   "execution_count": null,
   "metadata": {},
   "outputs": [],
   "source": [
    "db.image = db.image.apply(regularize)\n",
    "db.image = db.image.apply(partial(regularize_scale, object_size=115, output_size=150))"
   ]
  },
  {
   "cell_type": "code",
   "execution_count": null,
   "metadata": {},
   "outputs": [],
   "source": [
    "def mask(image):\n",
    "    return (image==0).flatten()\n",
    "\n",
    "def hamming(desc, C):\n",
    "    return np.sum(desc ^ C, axis=1)"
   ]
  },
  {
   "cell_type": "code",
   "execution_count": null,
   "metadata": {},
   "outputs": [],
   "source": [
    "queries, results = test_queries(mask, hamming, top_n=5, i=0)\n",
    "show_query_results(queries, results)\n",
    "show_query_accuracy(queries, results)"
   ]
  },
  {
   "cell_type": "code",
   "execution_count": null,
   "metadata": {},
   "outputs": [],
   "source": [
    "queries, results = test_queries(mask, hamming, top_n=5, i=0, transform=rand_rotate)\n",
    "show_query_results(queries, results)\n",
    "show_query_accuracy(queries, results)"
   ]
  },
  {
   "cell_type": "code",
   "execution_count": null,
   "metadata": {},
   "outputs": [],
   "source": [
    "import skimage"
   ]
  },
  {
   "cell_type": "code",
   "execution_count": null,
   "metadata": {},
   "outputs": [],
   "source": [
    "im = db.query(\"clas=='ray'\").image.iloc[7]\n",
    "\n",
    "\n",
    "p = (200-155)//2\n",
    "\n",
    "params = dict(\n",
    "    orientations=5,\n",
    "    pixels_per_cell=(13,13),\n",
    "    cells_per_block=(1,1), \n",
    "    visualize=True\n",
    "    )\n",
    "\n",
    "im_f = cv2.blur(im,(5,5))\n",
    "fd, hog_image = skimage.feature.hog(im[p:-p,p:-p], **params)\n",
    "\n",
    "print(fd.shape)\n",
    "plt.imshow(im)\n",
    "plt.figure()\n",
    "plt.imshow(hog_image)\n",
    "\n",
    "def hog_desc(im):\n",
    "    im_f = cv2.blur(im,(5,5))\n",
    "    fd, hog_image = skimage.feature.hog(im_f[p:-p,p:-p], **params)\n",
    "    return fd"
   ]
  },
  {
   "cell_type": "code",
   "execution_count": null,
   "metadata": {},
   "outputs": [],
   "source": [
    "queries, results = test_queries(hog_desc, cosine_distance, top_n=5)\n",
    "show_query_results(queries, results)\n",
    "show_query_accuracy(queries, results)"
   ]
  },
  {
   "cell_type": "code",
   "execution_count": null,
   "metadata": {},
   "outputs": [],
   "source": [
    "import torch\n",
    "import clip\n",
    "\n",
    "model, preprocess = clip.load(\"ViT-B/32\", device=\"cpu\")"
   ]
  },
  {
   "cell_type": "code",
   "execution_count": null,
   "metadata": {},
   "outputs": [],
   "source": [
    "plt.imshow(db.image.iloc[0])\n",
    "plt.show()"
   ]
  },
  {
   "cell_type": "code",
   "execution_count": null,
   "metadata": {},
   "outputs": [],
   "source": [
    "im = db.query(\"clas=='bird'\").image.iloc[0]"
   ]
  },
  {
   "cell_type": "code",
   "execution_count": null,
   "metadata": {},
   "outputs": [],
   "source": [
    "from PIL import Image\n",
    "\n",
    "image = Image.fromarray(np.uint8(im))\n",
    "device = \"cpu\"\n",
    "image = preprocess(image).unsqueeze(0).to(device)\n",
    "text = clip.tokenize(\"a \" + db.clas.unique()).to(device)\n",
    "\n",
    "with torch.no_grad():\n",
    "    image_features = model.encode_image(image)\n",
    "    text_features = model.encode_text(text)\n",
    "    \n",
    "    logits_per_image, logits_per_text = model(image, text)\n",
    "    probs = logits_per_image.softmax(dim=-1).cpu().numpy()\n",
    "\n",
    "print(\"Label probs:\", probs)  # prints: [[0.9927937  0.00421068 0.00299572]]"
   ]
  },
  {
   "cell_type": "code",
   "execution_count": null,
   "metadata": {},
   "outputs": [],
   "source": [
    "i = np.argmax(probs)\n",
    "db.clas.unique()[i]"
   ]
  },
  {
   "cell_type": "code",
   "execution_count": null,
   "metadata": {},
   "outputs": [],
   "source": [
    "def clip_embedding(im):\n",
    "    image = Image.fromarray(np.uint8(im))\n",
    "    device = \"cpu\"\n",
    "    image = preprocess(image).unsqueeze(0).to(device)\n",
    "\n",
    "    with torch.no_grad():\n",
    "        image_features = model.encode_image(image)\n",
    "\n",
    "    return image_features.numpy().flatten()"
   ]
  },
  {
   "cell_type": "code",
   "execution_count": null,
   "metadata": {},
   "outputs": [],
   "source": [
    "queries, results = test_queries(clip_embedding, l2Dist, top_n=5)\n",
    "show_query_results(queries, results)\n",
    "show_query_accuracy(queries, results)"
   ]
  },
  {
   "cell_type": "code",
   "execution_count": null,
   "metadata": {},
   "outputs": [],
   "source": [
    "queries, results = test_queries(clip_embedding, l2Dist, top_n=5)\n",
    "show_query_results(queries, results)\n",
    "show_query_accuracy(queries, results)"
   ]
  },
  {
   "cell_type": "code",
   "execution_count": null,
   "metadata": {},
   "outputs": [],
   "source": [
    "import torchvision.models as models\n",
    "\n",
    "vgg16 = models.vgg16(pretrained=True)\n",
    "\n",
    "def vgg_embedding(im):\n",
    "    image = Image.fromarray(np.uint8(im))\n",
    "    device = \"cpu\"\n",
    "    image = preprocess(image).unsqueeze(0).to(device)\n",
    "    return vgg16.avgpool(image).numpy().ravel()"
   ]
  },
  {
   "cell_type": "code",
   "execution_count": null,
   "metadata": {},
   "outputs": [],
   "source": [
    "queries, results = test_queries(vgg_embedding, l2Dist, top_n=5)\n",
    "show_query_results(queries, results)\n",
    "show_query_accuracy(queries, results)"
   ]
  },
  {
   "cell_type": "code",
   "execution_count": null,
   "metadata": {},
   "outputs": [],
   "source": [
    "queries, results = test_queries(vgg_embedding, cosine_distance, top_n=5)\n",
    "show_query_results(queries, results)\n",
    "show_query_accuracy(queries, results)"
   ]
  },
  {
   "cell_type": "code",
   "execution_count": null,
   "metadata": {},
   "outputs": [],
   "source": [
    "im = db.image.iloc[1]"
   ]
  },
  {
   "cell_type": "code",
   "execution_count": null,
   "metadata": {},
   "outputs": [],
   "source": []
  },
  {
   "cell_type": "code",
   "execution_count": null,
   "metadata": {},
   "outputs": [],
   "source": []
  }
 ],
 "metadata": {
  "interpreter": {
   "hash": "23f18d05103e57a8da9e02455a140d7bec533e72d2702bd45f81d73c6cd61b13"
  },
  "kernelspec": {
   "display_name": "Python 3.8.13 ('cbir')",
   "language": "python",
   "name": "python3"
  },
  "language_info": {
   "codemirror_mode": {
    "name": "ipython",
    "version": 3
   },
   "file_extension": ".py",
   "mimetype": "text/x-python",
   "name": "python",
   "nbconvert_exporter": "python",
   "pygments_lexer": "ipython3",
   "version": "3.8.13"
  },
  "orig_nbformat": 4
 },
 "nbformat": 4,
 "nbformat_minor": 2
}
